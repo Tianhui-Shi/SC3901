{
 "cells": [
  {
   "cell_type": "code",
   "execution_count": null,
   "metadata": {
    "id": "1XoHPN-XOp4x"
   },
   "outputs": [],
   "source": [
    "import spacy\n",
    "import pandas as pd\n",
    "import json\n",
    "\n",
    "nlp = spacy.load(\"en_core_web_lg\")\n",
    "\n",
    "# remove \"NOUN\", \"PROPN\", \"VERB\", \"ADJ\", \"ADV\"\n",
    "def process_sentence(sentence):\n",
    "    doc = nlp(sentence)\n",
    "\n",
    "    token_parts = {\"NOUN\": [], \"PROPN\": [], \"VERB\": [], \"ADJ\": [], \"ADV\": []}\n",
    "\n",
    "    for token in doc:\n",
    "        if token.pos_ in token_parts:\n",
    "            token_parts[token.pos_].append(token.text)\n",
    "\n",
    "    new_sentence = ' '.join(' '.join(token_parts[pos]) for pos in [\"NOUN\", \"PROPN\", \"VERB\", \"ADJ\", \"ADV\"])\n",
    "    return new_sentence\n",
    "\n",
    "def word_vector_analysis(texts, filename):\n",
    "    with open(f\"{filename}_vectors.json\", 'w') as json_file:\n",
    "        for text in texts:\n",
    "            text_str = str(text) if not pd.isna(text) else \"\"\n",
    "            processed_text = nlp(text_str)\n",
    "\n",
    "            # Collect word vectors in a dictionary instead of a list\n",
    "            vectors = {token.text: token.vector.tolist() for token in processed_text}\n",
    "\n",
    "            # Write the result to the output file incrementally\n",
    "            json.dump({text_str: vectors}, json_file)\n",
    "            json_file.write('\\n')\n"
   ]
  },
  {
   "cell_type": "code",
   "execution_count": null,
   "metadata": {},
   "outputs": [],
   "source": [
    "# Get CSV file path from user input\n",
    "csv_file_path = input(\"Enter the path to the CSV file: \")\n",
    "\n",
    "# Extract the variable name from the CSV file name\n",
    "variable_name = csv_file_path.split('.')[0]\n",
    "\n",
    "# Read the entire data\n",
    "data = pd.read_csv(csv_file_path, encoding='latin1')\n",
    "\n",
    "# Process reviews and write word vectors to JSON files\n",
    "word_vector_analysis(data['Review Title'], f\"{variable_name}_review_title\")\n",
    "word_vector_analysis(data['Likes'], f\"{variable_name}_likes\")\n",
    "word_vector_analysis(data['Dislikes'], f\"{variable_name}_dislikes\")\n"
   ]
  }
 ],
 "metadata": {
  "colab": {
   "machine_shape": "hm",
   "provenance": []
  },
  "kernelspec": {
   "display_name": "Python 3 (ipykernel)",
   "language": "python",
   "name": "python3"
  },
  "language_info": {
   "codemirror_mode": {
    "name": "ipython",
    "version": 3
   },
   "file_extension": ".py",
   "mimetype": "text/x-python",
   "name": "python",
   "nbconvert_exporter": "python",
   "pygments_lexer": "ipython3",
   "version": "3.11.5"
  }
 },
 "nbformat": 4,
 "nbformat_minor": 1
}
